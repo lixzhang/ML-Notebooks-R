{
 "cells": [
  {
   "cell_type": "markdown",
   "metadata": {},
   "source": [
    "# Fitting a LASSO regression model and  publishing to Azure ML using R\n",
    "\n",
    "## Summary\n",
    "\n",
    "Fit a LASSO model to data, then publish the model to AzureML as a web service.\n",
    "\n",
    "## Description\n",
    "\n",
    "LASSO, the Least Absolute Shrinkage and Selection Operator, is one of the model complexity control techniques like variable selection and ridge regression. In this notebook you use the `glmnet` package to estimate a LASSO regression model, then publish the model as a web service to Azure ML studio.\n",
    "\n",
    "## Introduction\n",
    "\n",
    "### About the method\n",
    "\n",
    "LASSO, which stands for Least Absolute Shrinkage and Selection Operator, is one of the model complexity control techniques like variable selection and ridge regression. In this notebook we'll demonstrate how to use the *glmnet* package for LASSO regression. For more information about LASSO you can refer to the [LASSO Page][lasso link].\n",
    "\n",
    "[lasso link]: http://statweb.stanford.edu/~tibs/lasso.html\n",
    "\n",
    "### Target audience\n",
    "\n",
    "This notebook is targeted toward data scientists who understand linear regression and want to find out how to fit LASSO regression in R. An operationalization step is also included to show how you can deploy in Azure a web service based on the selected model. \n",
    "\n",
    "## Data\n",
    "\n",
    "In this example, we'll use the housing data from the R package `MASS`. There are 506 rows and 14 columns in the dataset. Available information includes median home price, average number of rooms per dwelling, crime rate by town, etc. More information about this dataset can be found by typing `?Boston` or `help(Boston)` in an R terminal, or at this [UCI page][uci link].\n",
    "\n",
    "[uci link]: https://archive.ics.uci.edu/ml/datasets/Housing"
   ]
  },
  {
   "cell_type": "code",
   "execution_count": 1,
   "metadata": {
    "collapsed": false,
    "scrolled": false
   },
   "outputs": [
    {
     "data": {
      "text/html": [
       "\n",
       "<table width=\"100%\" summary=\"page for Boston {MASS}\"><tr><td>Boston {MASS}</td><td align=\"right\">R Documentation</td></tr></table>\n",
       "\n",
       "<h2>\n",
       "Housing Values in Suburbs of Boston\n",
       "</h2>\n",
       "\n",
       "<h3>Description</h3>\n",
       "\n",
       "<p>The <code>Boston</code> data frame has 506 rows and 14 columns.\n",
       "</p>\n",
       "\n",
       "\n",
       "<h3>Usage</h3>\n",
       "\n",
       "<pre>\n",
       "Boston\n",
       "</pre>\n",
       "\n",
       "\n",
       "<h3>Format</h3>\n",
       "\n",
       "<p>This data frame contains the following columns:\n",
       "</p>\n",
       "\n",
       "<dl>\n",
       "<dt><code>crim</code></dt><dd>\n",
       "<p>per capita crime rate by town.\n",
       "</p>\n",
       "</dd>\n",
       "<dt><code>zn</code></dt><dd>\n",
       "<p>proportion of residential land zoned for lots over 25,000 sq.ft.\n",
       "</p>\n",
       "</dd>\n",
       "<dt><code>indus</code></dt><dd>\n",
       "<p>proportion of non-retail business acres per town.\n",
       "</p>\n",
       "</dd>\n",
       "<dt><code>chas</code></dt><dd>\n",
       "<p>Charles River dummy variable (= 1 if tract bounds river; 0 otherwise).\n",
       "</p>\n",
       "</dd>\n",
       "<dt><code>nox</code></dt><dd>\n",
       "<p>nitrogen oxides concentration (parts per 10 million).\n",
       "</p>\n",
       "</dd>\n",
       "<dt><code>rm</code></dt><dd>\n",
       "<p>average number of rooms per dwelling.\n",
       "</p>\n",
       "</dd>\n",
       "<dt><code>age</code></dt><dd>\n",
       "<p>proportion of owner-occupied units built prior to 1940.\n",
       "</p>\n",
       "</dd>\n",
       "<dt><code>dis</code></dt><dd>\n",
       "<p>weighted mean of distances to five Boston employment centres.\n",
       "</p>\n",
       "</dd>\n",
       "<dt><code>rad</code></dt><dd>\n",
       "<p>index of accessibility to radial highways.\n",
       "</p>\n",
       "</dd>\n",
       "<dt><code>tax</code></dt><dd>\n",
       "<p>full-value property-tax rate per \\$10,000.\n",
       "</p>\n",
       "</dd>\n",
       "<dt><code>ptratio</code></dt><dd>\n",
       "<p>pupil-teacher ratio by town.\n",
       "</p>\n",
       "</dd>\n",
       "<dt><code>black</code></dt><dd>\n",
       "<i>1000(Bk - 0.63)^2</i><p> where <i>Bk</i> is the proportion of blacks\n",
       "by town.\n",
       "</p>\n",
       "</dd>\n",
       "<dt><code>lstat</code></dt><dd>\n",
       "<p>lower status of the population (percent).\n",
       "</p>\n",
       "</dd>\n",
       "<dt><code>medv</code></dt><dd>\n",
       "<p>median value of owner-occupied homes in \\$1000s.\n",
       "</p>\n",
       "</dd>\n",
       "</dl>\n",
       "\n",
       "\n",
       "\n",
       "<h3>Source</h3>\n",
       "\n",
       "<p>Harrison, D. and Rubinfeld, D.L. (1978)\n",
       "Hedonic prices and the demand for clean air.\n",
       "<EM>J. Environ. Economics and Management</EM>\n",
       "<B>5</B>, 81&ndash;102.\n",
       "</p>\n",
       "<p>Belsley D.A., Kuh, E.  and Welsch, R.E. (1980)\n",
       "<EM>Regression Diagnostics. Identifying Influential Data and Sources\n",
       "of Collinearity.</EM>\n",
       "New York: Wiley.\n",
       "</p>\n",
       "\n",
       "<hr><div align=\"center\">[Package <em>MASS</em> version 7.3-33 ]</div>"
      ],
      "text/latex": [
       "\\inputencoding{utf8}\n",
       "\\HeaderA{Boston}{Housing Values in Suburbs of Boston}{Boston}\n",
       "\\keyword{datasets}{Boston}\n",
       "%\n",
       "\\begin{Description}\\relax\n",
       "The \\code{Boston} data frame has 506 rows and 14 columns.\n",
       "\\end{Description}\n",
       "%\n",
       "\\begin{Usage}\n",
       "\\begin{verbatim}\n",
       "Boston\n",
       "\\end{verbatim}\n",
       "\\end{Usage}\n",
       "%\n",
       "\\begin{Format}\n",
       "This data frame contains the following columns:\n",
       "\\begin{description}\n",
       "\n",
       "\\item[\\code{crim}] \n",
       "per capita crime rate by town.\n",
       "\n",
       "\\item[\\code{zn}] \n",
       "proportion of residential land zoned for lots over 25,000 sq.ft.\n",
       "\n",
       "\\item[\\code{indus}] \n",
       "proportion of non-retail business acres per town.\n",
       "\n",
       "\\item[\\code{chas}] \n",
       "Charles River dummy variable (= 1 if tract bounds river; 0 otherwise).\n",
       "\n",
       "\\item[\\code{nox}] \n",
       "nitrogen oxides concentration (parts per 10 million).\n",
       "\n",
       "\\item[\\code{rm}] \n",
       "average number of rooms per dwelling.\n",
       "\n",
       "\\item[\\code{age}] \n",
       "proportion of owner-occupied units built prior to 1940.\n",
       "\n",
       "\\item[\\code{dis}] \n",
       "weighted mean of distances to five Boston employment centres.\n",
       "\n",
       "\\item[\\code{rad}] \n",
       "index of accessibility to radial highways.\n",
       "\n",
       "\\item[\\code{tax}] \n",
       "full-value property-tax rate per \\bsl{}\\$10,000.\n",
       "\n",
       "\\item[\\code{ptratio}] \n",
       "pupil-teacher ratio by town.\n",
       "\n",
       "\\item[\\code{black}] \n",
       "\\eqn{1000(Bk - 0.63)^2}{} where \\eqn{Bk}{} is the proportion of blacks\n",
       "by town.\n",
       "\n",
       "\\item[\\code{lstat}] \n",
       "lower status of the population (percent).\n",
       "\n",
       "\\item[\\code{medv}] \n",
       "median value of owner-occupied homes in \\bsl{}\\$1000s.\n",
       "\n",
       "\n",
       "\\end{description}\n",
       "\n",
       "\\end{Format}\n",
       "%\n",
       "\\begin{Source}\\relax\n",
       "Harrison, D. and Rubinfeld, D.L. (1978)\n",
       "Hedonic prices and the demand for clean air.\n",
       "\\emph{J. Environ. Economics and Management}\n",
       "\\bold{5}, 81--102.\n",
       "\n",
       "Belsley D.A., Kuh, E.  and Welsch, R.E. (1980)\n",
       "\\emph{Regression Diagnostics. Identifying Influential Data and Sources\n",
       "of Collinearity.}\n",
       "New York: Wiley.\n",
       "\\end{Source}"
      ],
      "text/plain": [
       "Boston                  package:MASS                   R Documentation\n",
       "\n",
       "_\bH_\bo_\bu_\bs_\bi_\bn_\bg _\bV_\ba_\bl_\bu_\be_\bs _\bi_\bn _\bS_\bu_\bb_\bu_\br_\bb_\bs _\bo_\bf _\bB_\bo_\bs_\bt_\bo_\bn\n",
       "\n",
       "_\bD_\be_\bs_\bc_\br_\bi_\bp_\bt_\bi_\bo_\bn:\n",
       "\n",
       "     The 'Boston' data frame has 506 rows and 14 columns.\n",
       "\n",
       "_\bU_\bs_\ba_\bg_\be:\n",
       "\n",
       "     Boston\n",
       "     \n",
       "_\bF_\bo_\br_\bm_\ba_\bt:\n",
       "\n",
       "     This data frame contains the following columns:\n",
       "\n",
       "     'crim' per capita crime rate by town.\n",
       "\n",
       "     'zn' proportion of residential land zoned for lots over 25,000\n",
       "          sq.ft.\n",
       "\n",
       "     'indus' proportion of non-retail business acres per town.\n",
       "\n",
       "     'chas' Charles River dummy variable (= 1 if tract bounds river; 0\n",
       "          otherwise).\n",
       "\n",
       "     'nox' nitrogen oxides concentration (parts per 10 million).\n",
       "\n",
       "     'rm' average number of rooms per dwelling.\n",
       "\n",
       "     'age' proportion of owner-occupied units built prior to 1940.\n",
       "\n",
       "     'dis' weighted mean of distances to five Boston employment\n",
       "          centres.\n",
       "\n",
       "     'rad' index of accessibility to radial highways.\n",
       "\n",
       "     'tax' full-value property-tax rate per \\$10,000.\n",
       "\n",
       "     'ptratio' pupil-teacher ratio by town.\n",
       "\n",
       "     'black' 1000(Bk - 0.63)^2 where Bk is the proportion of blacks by\n",
       "          town.\n",
       "\n",
       "     'lstat' lower status of the population (percent).\n",
       "\n",
       "     'medv' median value of owner-occupied homes in \\$1000s.\n",
       "\n",
       "_\bS_\bo_\bu_\br_\bc_\be:\n",
       "\n",
       "     Harrison, D. and Rubinfeld, D.L. (1978) Hedonic prices and the\n",
       "     demand for clean air.  _J. Environ. Economics and Management_ *5*,\n",
       "     81-102.\n",
       "\n",
       "     Belsley D.A., Kuh, E.  and Welsch, R.E. (1980) _Regression\n",
       "     Diagnostics. Identifying Influential Data and Sources of\n",
       "     Collinearity._ New York: Wiley.\n"
      ]
     },
     "metadata": {},
     "output_type": "display_data"
    }
   ],
   "source": [
    "library(MASS) # to use the Boston dataset\n",
    "?Boston"
   ]
  },
  {
   "cell_type": "markdown",
   "metadata": {},
   "source": [
    "## Analysis\n",
    "\n",
    "This examples uses `medv`, median home value, as the response variable and the remaining variables as predictors.\n",
    "\n",
    "The first step in fitting LASSO regression is to determine the value of tuning parameter ÃÂ» (lambda). This parameter controls the overall strength of the penalty. A ÃÂ» value of zero will give exactly the same results as linear regression. The higher the value of ÃÂ», the more the coefficients are \"penalised\", in other words get moderated to zero.\n",
    "\n",
    "The `glmnet` package allows you to use cross-validation to choose the value of ÃÂ» that gives the smallest validation error."
   ]
  },
  {
   "cell_type": "code",
   "execution_count": 2,
   "metadata": {
    "collapsed": false
   },
   "outputs": [
    {
     "name": "stderr",
     "output_type": "stream",
     "text": [
      "Loaded glmnet 1.9-8\n",
      "\n"
     ]
    }
   ],
   "source": [
    "# to make results replicable\n",
    "set.seed(123)\n",
    "\n",
    "# load libraries\n",
    "if(!require(\"glmnet\", quietly = TRUE)) install.packages(\"glmnet\")\n",
    "library(glmnet) # to fit a LASSO model\n",
    "library(MASS) # to use the Boston dataset"
   ]
  },
  {
   "cell_type": "code",
   "execution_count": 3,
   "metadata": {
    "collapsed": false
   },
   "outputs": [],
   "source": [
    "# define response variable and predictor variables\n",
    "response_column <- which(names(Boston) == \"medv\")\n",
    "train_X <- data.matrix(Boston[, -response_column])\n",
    "train_y <- Boston[,response_column]\n",
    "\n",
    "# use cv.glmnet with 10-fold cross-validation to pick lambda\n",
    "model1 <- cv.glmnet(x = train_X, \n",
    "                    y = train_y, \n",
    "                    alpha = 1, \n",
    "                    nfolds = 10, \n",
    "                    family = \"gaussian\", \n",
    "                    type.measure = \"mse\")"
   ]
  },
  {
   "cell_type": "code",
   "execution_count": 4,
   "metadata": {
    "collapsed": false
   },
   "outputs": [
    {
     "data": {
      "text/plain": [
       "           Length Class  Mode     \n",
       "lambda     76     -none- numeric  \n",
       "cvm        76     -none- numeric  \n",
       "cvsd       76     -none- numeric  \n",
       "cvup       76     -none- numeric  \n",
       "cvlo       76     -none- numeric  \n",
       "nzero      76     -none- numeric  \n",
       "name        1     -none- character\n",
       "glmnet.fit 12     elnet  list     \n",
       "lambda.min  1     -none- numeric  \n",
       "lambda.1se  1     -none- numeric  "
      ]
     },
     "metadata": {},
     "output_type": "display_data"
    }
   ],
   "source": [
    "summary(model1)"
   ]
  },
  {
   "cell_type": "code",
   "execution_count": 5,
   "metadata": {
    "collapsed": false,
    "scrolled": false
   },
   "outputs": [
    {
     "data": {
      "image/png": "[encoded data removed]"
     },
     "metadata": {},
     "output_type": "display_data"
    }
   ],
   "source": [
    "options(repr.plot.width = 5, repr.plot.height = 5)\n",
    "plot(model1)"
   ]
  },
  {
   "cell_type": "markdown",
   "metadata": {},
   "source": [
    "In the plot above:\n",
    "\n",
    "* The red dotted line shows the cross-validation error and the error bars show the uppper and lower standard deviation.\n",
    "* The dotted vertical line to the left is for the optimal ÃÂ» that gives minimum mean cross-validation error.\n",
    "* The vertical line to the right is for the ÃÂ» where cross-validation error falls within one standard error of the minimum error.\n",
    "* The number of nonzero coefficients for different ÃÂ» is shown along the axis at the top. The values for ÃÂ» and associated coefficients are printed below."
   ]
  },
  {
   "cell_type": "markdown",
   "metadata": {},
   "source": [
    "Lambda that gives minimum mean cross-validated error:"
   ]
  },
  {
   "cell_type": "code",
   "execution_count": 6,
   "metadata": {
    "collapsed": false
   },
   "outputs": [
    {
     "data": {
      "text/html": [
       "0.0233"
      ],
      "text/latex": [
       "0.0233"
      ],
      "text/markdown": [
       "0.0233"
      ],
      "text/plain": [
       "[1] 0.0233"
      ]
     },
     "metadata": {},
     "output_type": "display_data"
    }
   ],
   "source": [
    "round(model1$lambda.min, 4)"
   ]
  },
  {
   "cell_type": "markdown",
   "metadata": {},
   "source": [
    "Largest lambda with mean cross-validated error within 1 standard error of the minimum error:"
   ]
  },
  {
   "cell_type": "code",
   "execution_count": 7,
   "metadata": {
    "collapsed": false
   },
   "outputs": [
    {
     "data": {
      "text/html": [
       "0.3453"
      ],
      "text/latex": [
       "0.3453"
      ],
      "text/markdown": [
       "0.3453"
      ],
      "text/plain": [
       "[1] 0.3453"
      ]
     },
     "metadata": {},
     "output_type": "display_data"
    }
   ],
   "source": [
    "round(model1$lambda.1se, 4)"
   ]
  },
  {
   "cell_type": "markdown",
   "metadata": {},
   "source": [
    "Coefficients based on lambda that gives minimum mean cross-validated error:"
   ]
  },
  {
   "cell_type": "code",
   "execution_count": 8,
   "metadata": {
    "collapsed": false
   },
   "outputs": [
    {
     "data": {
      "text/plain": [
       "14 x 1 sparse Matrix of class \"dgCMatrix\"\n",
       "                        1\n",
       "(Intercept)  34.741082558\n",
       "crim         -0.099983351\n",
       "zn            0.042163911\n",
       "indus         .          \n",
       "chas          2.691362171\n",
       "nox         -16.484121381\n",
       "rm            3.856387745\n",
       "age           .          \n",
       "dis          -1.412063666\n",
       "rad           0.260319556\n",
       "tax          -0.010144690\n",
       "ptratio      -0.932724941\n",
       "black         0.009070332\n",
       "lstat        -0.522516834"
      ]
     },
     "metadata": {},
     "output_type": "display_data"
    }
   ],
   "source": [
    "coef(model1, s = \"lambda.min\")"
   ]
  },
  {
   "cell_type": "markdown",
   "metadata": {},
   "source": [
    "### Varying lambda\n",
    "\n",
    "While the model selected by cv.glmnet() can be used for making predictions, we also want to better understand how the values of lambda impact the estimated coefficients. Such information can be produced by the glmnet() function. \n",
    "\n",
    "In the plot that's generated below, it can be observed that by increasing the value of lambda, the regression parameters are increasingly penalised, and thus move closer to zero.\n",
    "\n",
    "In the lambda plot below, you can see how the coefficients gradually decrease in value as lambda increaes. This has a particularly high impact on variable 5 (nox, nitrogen oxides concentration (parts per 10 million)).\n",
    "\n",
    "This shows the value of LASSO regression: the algorithm deals very well with problematic predictors, for example situations where the predictors are higly correlated with one another (multi-collinearity)."
   ]
  },
  {
   "cell_type": "code",
   "execution_count": 9,
   "metadata": {
    "collapsed": false,
    "scrolled": false
   },
   "outputs": [
    {
     "data": {
      "image/png": "[encoded data removed]"
     },
     "metadata": {},
     "output_type": "display_data"
    }
   ],
   "source": [
    "model2 <- glmnet(x = train_X, \n",
    "                 y = train_y, \n",
    "                 alpha = 1, \n",
    "                 family = \"gaussian\")\n",
    "\n",
    "# identify variable names\n",
    "vn = colnames(train_X)\n",
    "vid <- as.character(seq(1, length(vn)))\n",
    "\n",
    "# check and exclude the variables with coefficient value 0 \n",
    "vnat = coef(model2)\n",
    "vnat_f <- vnat[-1, ncol(vnat)] \n",
    "vid <- vid[vnat_f != 0]\n",
    "vn <- vn[vnat_f != 0]\n",
    "\n",
    "#define the legend description, line type, and line color\n",
    "nvars <- length(vn)\n",
    "legend_desc <- paste(vid, vn, sep=\": \")\n",
    "mylty <- rep(1,nvars)\n",
    "mycl <- seq(1,nvars)\n",
    "\n",
    "# plot\n",
    "options(repr.plot.width = 8, repr.plot.height = 8)\n",
    "plot(model2, xvar = \"lambda\", label = TRUE, col = mycl, xlim = c(-5.5, 2))\n",
    "legend(-0.5, -2, legend_desc, lty = mylty, col = mycl, cex = 0.7) "
   ]
  },
  {
   "cell_type": "markdown",
   "metadata": {},
   "source": [
    "The coefficients from this model with the optimal ÃÂ» are also printed below.\n",
    "\n",
    "As we would expect, they are the same as those from using `cv.glmnet()`."
   ]
  },
  {
   "cell_type": "code",
   "execution_count": 10,
   "metadata": {
    "collapsed": false,
    "scrolled": false
   },
   "outputs": [
    {
     "data": {
      "text/plain": [
       "14 x 1 sparse Matrix of class \"dgCMatrix\"\n",
       "                        1\n",
       "(Intercept)  34.741082558\n",
       "crim         -0.099983351\n",
       "zn            0.042163911\n",
       "indus         .          \n",
       "chas          2.691362171\n",
       "nox         -16.484121381\n",
       "rm            3.856387745\n",
       "age           .          \n",
       "dis          -1.412063666\n",
       "rad           0.260319556\n",
       "tax          -0.010144690\n",
       "ptratio      -0.932724941\n",
       "black         0.009070332\n",
       "lstat        -0.522516834"
      ]
     },
     "metadata": {},
     "output_type": "display_data"
    }
   ],
   "source": [
    "coef(model2, s = model1$lambda.min)"
   ]
  },
  {
   "cell_type": "markdown",
   "metadata": {},
   "source": [
    "To make predictions, you can use either of the two models:"
   ]
  },
  {
   "cell_type": "code",
   "execution_count": 11,
   "metadata": {
    "collapsed": false
   },
   "outputs": [
    {
     "data": {
      "text/html": [
       "<table>\n",
       "<thead><tr><th></th><th scope=col>actual</th><th scope=col>model1</th><th scope=col>model2</th></tr></thead>\n",
       "<tbody>\n",
       "\t<tr><th scope=row>1</th><td>24</td><td>30.19603</td><td>30.19603</td></tr>\n",
       "\t<tr><th scope=row>2</th><td>21.6</td><td>25.04263</td><td>25.04263</td></tr>\n",
       "\t<tr><th scope=row>3</th><td>34.7</td><td>30.62206</td><td>30.62206</td></tr>\n",
       "\t<tr><th scope=row>4</th><td>33.4</td><td>28.74501</td><td>28.74501</td></tr>\n",
       "\t<tr><th scope=row>5</th><td>36.2</td><td>28.08772</td><td>28.08772</td></tr>\n",
       "\t<tr><th scope=row>6</th><td>28.7</td><td>25.3641</td><td>25.3641</td></tr>\n",
       "</tbody>\n",
       "</table>\n"
      ],
      "text/latex": [
       "\\begin{tabular}{r|lll}\n",
       "  & actual & model1 & model2\\\\\n",
       "\\hline\n",
       "\t1 & 24 & 30.19603 & 30.19603\\\\\n",
       "\t2 & 21.6 & 25.04263 & 25.04263\\\\\n",
       "\t3 & 34.7 & 30.62206 & 30.62206\\\\\n",
       "\t4 & 33.4 & 28.74501 & 28.74501\\\\\n",
       "\t5 & 36.2 & 28.08772 & 28.08772\\\\\n",
       "\t6 & 28.7 & 25.3641 & 25.3641\\\\\n",
       "\\end{tabular}\n"
      ],
      "text/plain": [
       "  actual   model1   model2\n",
       "1   24.0 30.19603 30.19603\n",
       "2   21.6 25.04263 25.04263\n",
       "3   34.7 30.62206 30.62206\n",
       "4   33.4 28.74501 28.74501\n",
       "5   36.2 28.08772 28.08772\n",
       "6   28.7 25.36410 25.36410"
      ]
     },
     "metadata": {},
     "output_type": "display_data"
    }
   ],
   "source": [
    "x_new <- data.matrix(train_X[, -response_column])\n",
    "pred1 <- predict(model1, newx = x_new, s = \"lambda.min\")\n",
    "pred2 <- predict(model2, newx = x_new, s = model1$lambda.min)\n",
    "\n",
    "head(\n",
    "    data.frame(\n",
    "        actual = Boston$medv, \n",
    "        model1 = as.vector(pred1), \n",
    "        model2 = as.vector(pred2)\n",
    "    )\n",
    ")"
   ]
  },
  {
   "cell_type": "markdown",
   "metadata": {},
   "source": [
    "## Web service\n",
    "\n",
    "### Deploy a web service\n",
    "\n",
    "With the developed model, you can deploy a web service on Azure so that others can use it to make predictions. You can use the function `publishWebservice()` in the `AzureML` to do this. \n",
    "\n",
    "**Important: Publishing and consuming a web service requires you to have valid Azure ML credentials. Concretely, if you logged in using a Guest account, you will get an error. If this is the case, please log in using your Microsoft or Azure account and try again.**"
   ]
  },
  {
   "cell_type": "code",
   "execution_count": 12,
   "metadata": {
    "collapsed": false
   },
   "outputs": [
    {
     "data": {
      "text/html": [
       "<table>\n",
       "<thead><tr><th></th><th scope=col>1</th></tr></thead>\n",
       "<tbody>\n",
       "\t<tr><th scope=row>1</th><td>30.19603</td></tr>\n",
       "\t<tr><th scope=row>2</th><td>25.04263</td></tr>\n",
       "\t<tr><th scope=row>3</th><td>30.62206</td></tr>\n",
       "\t<tr><th scope=row>4</th><td>28.74501</td></tr>\n",
       "\t<tr><th scope=row>5</th><td>28.08772</td></tr>\n",
       "\t<tr><th scope=row>6</th><td>25.3641</td></tr>\n",
       "\t<tr><th scope=row>7</th><td>23.01697</td></tr>\n",
       "\t<tr><th scope=row>8</th><td>19.57814</td></tr>\n",
       "\t<tr><th scope=row>9</th><td>11.57345</td></tr>\n",
       "\t<tr><th scope=row>10</th><td>19.00047</td></tr>\n",
       "</tbody>\n",
       "</table>\n"
      ],
      "text/latex": [
       "\\begin{tabular}{r|l}\n",
       "  & 1\\\\\n",
       "\\hline\n",
       "\t1 & 30.19603\\\\\n",
       "\t2 & 25.04263\\\\\n",
       "\t3 & 30.62206\\\\\n",
       "\t4 & 28.74501\\\\\n",
       "\t5 & 28.08772\\\\\n",
       "\t6 & 25.3641\\\\\n",
       "\t7 & 23.01697\\\\\n",
       "\t8 & 19.57814\\\\\n",
       "\t9 & 11.57345\\\\\n",
       "\t10 & 19.00047\\\\\n",
       "\\end{tabular}\n"
      ],
      "text/markdown": [
       "1. 30.1960333258559\n",
       "2. 25.0426343514077\n",
       "3. 30.6220613608011\n",
       "4. 28.7450142140827\n",
       "5. 28.0877230183655\n",
       "6. 25.3640988495863\n",
       "7. 23.0169664724879\n",
       "8. 19.5781369236585\n",
       "9. 11.5734519023757\n",
       "10. 19.0004679863766\n",
       "\n",
       "\n"
      ],
      "text/plain": [
       "          1\n",
       "1  30.19603\n",
       "2  25.04263\n",
       "3  30.62206\n",
       "4  28.74501\n",
       "5  28.08772\n",
       "6  25.36410\n",
       "7  23.01697\n",
       "8  19.57814\n",
       "9  11.57345\n",
       "10 19.00047"
      ]
     },
     "metadata": {},
     "output_type": "display_data"
    }
   ],
   "source": [
    "# define predict function\n",
    "mypredict <- function(newdata){\n",
    "    if(\"medv\" %in% names(newdata)) {\n",
    "        w <- match(\"medv\", names(newdata))\n",
    "        newdata <- newdata[, -w]\n",
    "        }\n",
    "  require(glmnet)\n",
    "  newdata <- data.matrix(newdata) # the prediction data need to be a matrix for glmnet\n",
    "  predict(model2, newx = newdata, s = model1$lambda.min)\n",
    "}\n",
    "\n",
    "# test the prediction function\n",
    "newdata <- Boston[1:10, ]\n",
    "mypredict(newdata)"
   ]
  },
  {
   "cell_type": "code",
   "execution_count": 13,
   "metadata": {
    "collapsed": false,
    "scrolled": true
   },
   "outputs": [],
   "source": [
    "# load the library\n",
    "library(AzureML)\n",
    "\n",
    "# If you use workspace() in a Jupyter notebook, you don't need to specify credentials,\n",
    "# since the settings are stored for you in a local file.\n",
    "# If you use this function on your own machine, specify your credentials. See ?workspace.\n",
    "\n",
    "if(file.exists(\"~/.azureml/settings.json\")){\n",
    "    ws <- workspace()\n",
    "} else {\n",
    "    # workspace_id <- \"\"\n",
    "    # authorization_token <- \"\"\n",
    "    ws <- workspace(workspace_id, authorization_token)\n",
    "}\n",
    "\n",
    "# deploy the service\n",
    "ep <- publishWebService(ws = ws, fun = mypredict, \n",
    "                        name = \"LASSOPrediction\", \n",
    "                        inputSchema = newdata, \n",
    "                        outputSchema = list(ans = \"numeric\"))\n",
    "# str(ep)"
   ]
  },
  {
   "cell_type": "markdown",
   "metadata": {},
   "source": [
    "### Consume a web service\n",
    "\n",
    "With information about the endpoint, you can consume the web service with the following code.\n",
    "\n",
    "**Important: Publishing and consuming a web service requires you to have valid Azure ML credentials. Concretely, if you logged in using a Guest account, you will get an error. If this is the case, please log in using your Microsoft or Azure account and try again.**"
   ]
  },
  {
   "cell_type": "code",
   "execution_count": 14,
   "metadata": {
    "collapsed": false
   },
   "outputs": [
    {
     "name": "stderr",
     "output_type": "stream",
     "text": [
      "Request failed with status 401. Waiting 5.4 seconds before retry\n",
      "......Request failed with status 401. Waiting 15.1 seconds before retry\n",
      "................"
     ]
    }
   ],
   "source": [
    "newdata <- Boston\n",
    "pred <- consume(ep, newdata)$ans\n",
    "# Note that it can take some time for the published web service to be ready in Azure ML Studio\n",
    "# The consume() function will retry several times to reach the service"
   ]
  },
  {
   "cell_type": "code",
   "execution_count": 15,
   "metadata": {
    "collapsed": false,
    "scrolled": true
   },
   "outputs": [
    {
     "data": {
      "text/html": [
       "<table>\n",
       "<thead><tr><th></th><th scope=col>actual</th><th scope=col>prediction</th></tr></thead>\n",
       "<tbody>\n",
       "\t<tr><th scope=row>1</th><td>24</td><td>30.19603</td></tr>\n",
       "\t<tr><th scope=row>2</th><td>21.6</td><td>25.04263</td></tr>\n",
       "\t<tr><th scope=row>3</th><td>34.7</td><td>30.62206</td></tr>\n",
       "\t<tr><th scope=row>4</th><td>33.4</td><td>28.74501</td></tr>\n",
       "\t<tr><th scope=row>5</th><td>36.2</td><td>28.08772</td></tr>\n",
       "\t<tr><th scope=row>6</th><td>28.7</td><td>25.3641</td></tr>\n",
       "</tbody>\n",
       "</table>\n"
      ],
      "text/latex": [
       "\\begin{tabular}{r|ll}\n",
       "  & actual & prediction\\\\\n",
       "\\hline\n",
       "\t1 & 24 & 30.19603\\\\\n",
       "\t2 & 21.6 & 25.04263\\\\\n",
       "\t3 & 34.7 & 30.62206\\\\\n",
       "\t4 & 33.4 & 28.74501\\\\\n",
       "\t5 & 36.2 & 28.08772\\\\\n",
       "\t6 & 28.7 & 25.3641\\\\\n",
       "\\end{tabular}\n"
      ],
      "text/plain": [
       "  actual prediction\n",
       "1   24.0   30.19603\n",
       "2   21.6   25.04263\n",
       "3   34.7   30.62206\n",
       "4   33.4   28.74501\n",
       "5   36.2   28.08772\n",
       "6   28.7   25.36410"
      ]
     },
     "metadata": {},
     "output_type": "display_data"
    }
   ],
   "source": [
    "predictions <- data.frame(actual = newdata$medv, prediction = pred)\n",
    "head(predictions)"
   ]
  },
  {
   "cell_type": "code",
   "execution_count": 16,
   "metadata": {
    "collapsed": false
   },
   "outputs": [
    {
     "data": {
      "image/png": "[encoded data removed]"
     },
     "metadata": {},
     "output_type": "display_data"
    }
   ],
   "source": [
    "library(ggplot2)\n",
    "options(repr.plot.width = 5, repr.plot.height = 5)\n",
    "ggplot(predictions, aes(x = actual, y = prediction)) + \n",
    "    geom_point(colour = \"blue\", alpha = 0.5) +\n",
    "    stat_smooth(colour = \"red\") + \n",
    "    ggtitle(\"LASSO prediction of Boston housing data\")"
   ]
  },
  {
   "cell_type": "markdown",
   "metadata": {},
   "source": [
    "The LASSO model estimates the values reasonably well only for some of the observations. All in all, this does not seem like a great model for the supplied data."
   ]
  },
  {
   "cell_type": "markdown",
   "metadata": {},
   "source": [
    "## Summary\n",
    "\n",
    "Using the `Boston` housing data, you fitted a LASSO regression model, by determining the optimal value of the tuning parameter ÃÂ» using cross-validation.\n",
    "\n",
    "Then you examined the impact of ÃÂ» on the coefficient estimates.\n",
    "\n",
    "Finally, you published the model as a web service to Azure ML Studio."
   ]
  }
 ],
 "metadata": {
  "kernelspec": {
   "display_name": "R",
   "language": "R",
   "name": "ir"
  },
  "language_info": {
   "codemirror_mode": "r",
   "file_extension": ".r",
   "mimetype": "text/x-r-source",
   "name": "R",
   "pygments_lexer": "r",
   "version": "3.2.2"
  }
 },
 "nbformat": 4,
 "nbformat_minor": 0
}
